{
 "cells": [
  {
   "cell_type": "code",
   "execution_count": 1,
   "metadata": {},
   "outputs": [],
   "source": [
    "# Imports\n",
    "import nltk\n",
    "import csv\n",
    "import re\n",
    "import pandas as pd  \n",
    "import numpy as np\n",
    "from pprint import pprint\n",
    "import math\n",
    "from nltk.tokenize import WordPunctTokenizer\n",
    "from nltk.stem.snowball import SnowballStemmer\n",
    "import matplotlib.pyplot as plt\n",
    "from bs4 import BeautifulSoup\n",
    "\n",
    "# Preprocessing the text\n",
    "\n",
    "negations_dic = {\"isn't\":\"is not\", \"aren't\":\"are not\", \"wasn't\":\"was not\", \"weren't\":\"were not\",\n",
    "                \"haven't\":\"have not\",\"hasn't\":\"has not\",\"hadn't\":\"had not\",\"won't\":\"will not\",\n",
    "                \"wouldn't\":\"would not\", \"don't\":\"do not\", \"doesn't\":\"does not\",\"didn't\":\"did not\",\n",
    "                \"can't\":\"can not\",\"couldn't\":\"could not\",\"shouldn't\":\"should not\",\"mightn't\":\"might not\",\n",
    "                \"mustn't\":\"must not\"}\n",
    "\n",
    "neg_pattern = re.compile(r'\\b(' + '|'.join(negations_dic.keys()) + r')\\b')\n",
    "\n",
    "class Splitter(object):\n",
    "    def __init__(self):\n",
    "        self.nltk_splitter = nltk.data.load('tokenizers/punkt/english.pickle')\n",
    "        self.nltk_tokenizer = nltk.tokenize.TreebankWordTokenizer()\n",
    "    def split(self, text):\n",
    "        sentences = self.nltk_splitter.tokenize(text)\n",
    "        tokenized_sentences = [self.nltk_tokenizer.tokenize(sent) for sent in sentences]\n",
    "        return tokenized_sentences\n",
    "\n",
    "class POSTagger(object):\n",
    "    def __init__(self):\n",
    "        pass\n",
    "    def pos_tag(self, sentences):\n",
    "        pos = [nltk.pos_tag(sentence) for sentence in sentences]\n",
    "        pos = [[(word, word, [postag]) for (word, postag) in sentence] for sentence in pos]\n",
    "        return pos\n",
    "    \n",
    "splitter = Splitter()\n",
    "tok = WordPunctTokenizer()\n",
    "postagger = POSTagger()\n",
    "stemmer = SnowballStemmer(\"english\")\n",
    "\n",
    "pat1 = r'@[A-Za-z0-9]+'\n",
    "pat2 = r'https?://[A-Za-z0-9./]+'\n",
    "combined_pat = r'|'.join((pat1, pat2))\n",
    "\n",
    "def review_cleaner(text):\n",
    "    soup = BeautifulSoup(text, 'lxml')\n",
    "    souped = soup.get_text()\n",
    "    stripped = re.sub(combined_pat, '', souped)\n",
    "    try:\n",
    "        clean = stripped.decode(\"utf-8-sig\").replace(u\"\\ufffd\", \"?\")\n",
    "    except:\n",
    "        clean = stripped\n",
    "    lower_case=\"\"\n",
    "    for i in range(0,len(text)):\n",
    "        if text[i].isalpha():\n",
    "            lower_case=lower_case+text[i].lower()\n",
    "        elif text[i].isdigit():\n",
    "            lower_case=lower_case\n",
    "        else:\n",
    "            lower_case=lower_case+text[i]\n",
    "    neg_handled = neg_pattern.sub(lambda x: negations_dic[x.group()], lower_case)\n",
    "    letters_only = re.sub(\"[^a-zA-Z]\", \" \", neg_handled)\n",
    "    words = [x for x  in tok.tokenize(letters_only) if len(x) > 1]\n",
    "    forpos= \" \".join(words).strip()\n",
    "    splitted_sentences = splitter.split(forpos)\n",
    "    pos_tagged_sentences = postagger.pos_tag(splitted_sentences)\n",
    "    altered_text=\"\"\n",
    "    for sentences in pos_tagged_sentences:\n",
    "        for word in sentences:\n",
    "            v=word[2]\n",
    "            for val in v:\n",
    "                if (val==\"JJ\" or val==\"JJR\" or val==\"JJS\" or val==\"VB\" or val==\"VBD\" or val==\"VBG\"\n",
    "                    or val==\"VBN\" or val==\"VBP\" or val==\"VBZ\" or val==\"RB\" or val==\"RBR\" or val==\"RBS\" ):\n",
    "                    altered_text = altered_text + stemmer.stem(word[0]) + \" \"\n",
    "    return altered_text"
   ]
  },
  {
   "cell_type": "code",
   "execution_count": 2,
   "metadata": {},
   "outputs": [],
   "source": [
    "# Store amazon reviews file in pandas dataframe\n",
    "cols = ['sno','reviewerID','asin','reviewerName','helpful__001','helpful__002','reviewText','overall','summary','unixReviewTime','reviewTime','label','rating']\n",
    "df = pd.read_csv(\"lreviews.csv\",header=None, names=cols)\n",
    "#print(df)\n",
    "df.drop(['sno','reviewerID','asin','reviewerName','helpful__001','helpful__002','overall','summary','unixReviewTime','reviewTime','label'],axis=1,inplace=True)\n",
    "#print(df)"
   ]
  },
  {
   "cell_type": "code",
   "execution_count": 3,
   "metadata": {},
   "outputs": [],
   "source": [
    "# Create clean review file \n",
    "clean_review_texts = np.empty([1, 2], dtype=object)\n",
    "for i in range(0,6000):      \n",
    "    clean_review_texts=np.append(clean_review_texts, np.array([[review_cleaner(df.iloc[i]['reviewText']),df.iloc[i]['rating']]]), axis=0)\n",
    "clean_review_texts=np.delete(clean_review_texts, 0, 0)\n",
    "clean_df = pd.DataFrame(clean_review_texts,columns=['text','target'])    \n",
    "clean_df.to_csv('lclean_review.csv',encoding='utf-8')"
   ]
  },
  {
   "cell_type": "code",
   "execution_count": 4,
   "metadata": {},
   "outputs": [
    {
     "name": "stdout",
     "output_type": "stream",
     "text": [
      "4963\n"
     ]
    }
   ],
   "source": [
    "from sklearn.feature_extraction.text import CountVectorizer\n",
    "\n",
    "my_df = pd.read_csv('lclean_review.csv',index_col=0)\n",
    "\n",
    "# Create term frequency file\n",
    "cvec = CountVectorizer(dtype='float32')\n",
    "#cvec.fit(my_df.text)\n",
    "cvec.fit_transform(my_df['text'].values.astype('U'))\n",
    "print(len(cvec.get_feature_names()))\n",
    "neg_doc_matrix = cvec.transform(my_df[my_df.target == 0].text.values.astype('U'))\n",
    "neu_doc_matrix = cvec.transform(my_df[my_df.target == 2].text.values.astype('U'))\n",
    "pos_doc_matrix = cvec.transform(my_df[my_df.target == 4].text.values.astype('U'))\n",
    "neg_tf = np.sum(neg_doc_matrix,axis=0)\n",
    "neu_tf = np.sum(neu_doc_matrix,axis=0)\n",
    "pos_tf = np.sum(pos_doc_matrix,axis=0)\n",
    "neg = np.squeeze(np.asarray((neg_tf)))\n",
    "neu = np.squeeze(np.asarray((neu_tf)))\n",
    "pos = np.squeeze(np.asarray((pos_tf)))\n",
    "\n",
    "term_freq_df = pd.DataFrame([neg,neu,pos],columns=cvec.get_feature_names()).transpose()\n",
    "term_freq_df.head()\n",
    "term_freq_df.columns = ['negative','neutral', 'positive']\n",
    "term_freq_df['total'] = term_freq_df['negative'] + term_freq_df['neutral'] +term_freq_df['positive']\n",
    "#document_matrix = cvec.transform(my_df.text)\n",
    "term_freq_df.to_csv('lterm_freq.csv',encoding='utf-8')\n",
    "\n",
    "\n",
    "term_freq_df_new = pd.read_csv('lterm_freq.csv',index_col=0)\n",
    "#print(term_freq_df_new)\n",
    "lexicon_df = pd.DataFrame([neg,neu,pos],columns=cvec.get_feature_names()).transpose()\n",
    "lexicon_df.columns = ['negative','neutral', 'positive']\n",
    "for i in range(0, len(cvec.get_feature_names())):\n",
    "    tot=term_freq_df_new.iloc[i]['total']\n",
    "    nn=term_freq_df_new.iloc[i]['negative']\n",
    "    nu=term_freq_df_new.iloc[i]['neutral']\n",
    "    ps=term_freq_df_new.iloc[i]['positive']\n",
    "    if nn==0:\n",
    "        lexicon_df.iloc[i]['negative']=0\n",
    "    elif nn==tot:\n",
    "        lexicon_df.iloc[i]['negative']=2.5*nn\n",
    "    else:\n",
    "        lexicon_df.iloc[i]['negative']=1/(math.log((tot/nn),10))\n",
    "    if nu==0:\n",
    "        lexicon_df.iloc[i]['neutral']=0\n",
    "    elif nu==tot:\n",
    "        lexicon_df.iloc[i]['neutral']=2.5*nu\n",
    "    else:\n",
    "        lexicon_df.iloc[i]['neutral']=1/(math.log((tot/nu),10))\n",
    "    if ps==0:\n",
    "        lexicon_df.iloc[i]['positive']=0\n",
    "    elif ps==tot:\n",
    "        lexicon_df.iloc[i]['positive']=2.5*ps\n",
    "    else:\n",
    "        lexicon_df.iloc[i]['positive']=1/(math.log((tot/ps),10))\n",
    "        #print(1/(math.log((tot/ps),10)))\n",
    "        #print(float(lexicon_df.iloc[i]['positive']))\n",
    "\n",
    "lexicon_df.to_csv('llexicon.csv',encoding='utf-8') "
   ]
  },
  {
   "cell_type": "code",
   "execution_count": 5,
   "metadata": {},
   "outputs": [],
   "source": [
    "# Create final features file from generated lexicon\n",
    "createfeed=pd.read_csv('llexicon.csv',index_col=0)\n",
    "columns=[\"Sno\",\"freq_neg\",\"freq_neutral\",\"freq_pos\",\"overall\"]\n",
    "with open('lsixthousandfeed.csv','w', newline='') as myfile:\n",
    "    wr = csv.writer(myfile,quoting=csv.QUOTE_NONE)\n",
    "    wr.writerow(columns)\n",
    "    for i in range(0,6000):\n",
    "        feature_values=[0,0,0]\n",
    "        text_for_comparison = my_df.iloc[i]['text']\n",
    "        words= text_for_comparison.split()\n",
    "        for j in range(0,len(words)):\n",
    "            feature_values = np.add(feature_values,[createfeed.loc[words[j]][0],createfeed.loc[words[j]][1],createfeed.loc[words[j]][2]])\n",
    "        feature_values = feature_values.tolist()\n",
    "        feature_values.insert(0, i)\n",
    "        new_lab=int(my_df.iloc[i]['target'] / 2)\n",
    "        feature_values.insert(4, new_lab)\n",
    "        wr.writerow(feature_values)"
   ]
  },
  {
   "cell_type": "code",
   "execution_count": 6,
   "metadata": {},
   "outputs": [
    {
     "name": "stderr",
     "output_type": "stream",
     "text": [
      "C:\\Users\\apurv\\Anaconda3\\lib\\site-packages\\h5py\\__init__.py:36: FutureWarning: Conversion of the second argument of issubdtype from `float` to `np.floating` is deprecated. In future, it will be treated as `np.float64 == np.dtype(float).type`.\n",
      "  from ._conv import register_converters as _register_converters\n",
      "Using TensorFlow backend.\n"
     ]
    }
   ],
   "source": [
    "import keras\n",
    "import numpy as np\n",
    "from keras.utils import to_categorical\n",
    "\n",
    "# Read final input data to numpy array\n",
    "with open('lsixthousandfeed.csv') as f:\n",
    "    content = f.readlines()\n",
    "lines = np.array(content) \n",
    "num_of_instances = lines.size"
   ]
  },
  {
   "cell_type": "code",
   "execution_count": 7,
   "metadata": {},
   "outputs": [],
   "source": [
    "x_train, y_train, y_train_svm = [], [], []\n",
    "for i in range(1, num_of_instances):\n",
    "    val = [0, 0, 0]\n",
    "    sno, val[0], val[1], val[2], label = lines[i].split(\",\")\n",
    "    final_val = np.array(val, 'float32')\n",
    "    class_label = keras.utils.to_categorical(label, 3)\n",
    "    y_train_svm.append(label)\n",
    "    y_train.append(class_label)\n",
    "    x_train.append(final_val)"
   ]
  },
  {
   "cell_type": "code",
   "execution_count": 8,
   "metadata": {},
   "outputs": [
    {
     "name": "stdout",
     "output_type": "stream",
     "text": [
      "(6000, 3)\n",
      "[0. 0. 1.]\n"
     ]
    }
   ],
   "source": [
    "x_train = np.array(x_train)\n",
    "print(np.shape(x_train))\n",
    "y_train = np.array(y_train)\n",
    "print(y_train[1])"
   ]
  },
  {
   "cell_type": "code",
   "execution_count": 9,
   "metadata": {},
   "outputs": [],
   "source": [
    "# Shuffle the data\n",
    "from random import shuffle\n",
    "ind_list = [i for i in range(len(x_train))]\n",
    "shuffle(ind_list)\n",
    "x_train = x_train[ind_list,]\n",
    "y_train = y_train[ind_list,]\n",
    "i = 0\n",
    "y_train_svm2 = []\n",
    "for j in ind_list:\n",
    "    y_train_svm2.append(y_train_svm[j])\n",
    "    i += 1"
   ]
  },
  {
   "cell_type": "code",
   "execution_count": 22,
   "metadata": {},
   "outputs": [],
   "source": [
    "# Neural network classification\n",
    "\n",
    "import keras\n",
    "from keras.models import Sequential\n",
    "from keras.layers import Dense, Activation\n",
    "\n",
    "model=Sequential()\n",
    "\n",
    "model.add(Dense(8,input_shape=(3,)))\n",
    "model.add(Activation(\"sigmoid\"))\n",
    "\n",
    "model.add(Dense(3))\n",
    "model.add(Activation(\"softmax\"))"
   ]
  },
  {
   "cell_type": "code",
   "execution_count": 23,
   "metadata": {},
   "outputs": [
    {
     "name": "stdout",
     "output_type": "stream",
     "text": [
      "Train on 4800 samples, validate on 1200 samples\n",
      "Epoch 1/40\n",
      "4800/4800 [==============================] - 1s 113us/step - loss: 1.2794 - acc: 0.1954 - val_loss: 1.1811 - val_acc: 0.2000\n",
      "Epoch 2/40\n",
      "4800/4800 [==============================] - 0s 12us/step - loss: 1.1127 - acc: 0.2371 - val_loss: 1.0436 - val_acc: 0.2083\n",
      "Epoch 3/40\n",
      "4800/4800 [==============================] - 0s 14us/step - loss: 0.9784 - acc: 0.4890 - val_loss: 0.9168 - val_acc: 0.6875\n",
      "Epoch 4/40\n",
      "4800/4800 [==============================] - 0s 15us/step - loss: 0.8692 - acc: 0.7121 - val_loss: 0.8374 - val_acc: 0.6867\n",
      "Epoch 5/40\n",
      "4800/4800 [==============================] - 0s 15us/step - loss: 0.8016 - acc: 0.7079 - val_loss: 0.7822 - val_acc: 0.6892\n",
      "Epoch 6/40\n",
      "4800/4800 [==============================] - 0s 14us/step - loss: 0.7518 - acc: 0.7083 - val_loss: 0.7389 - val_acc: 0.6733\n",
      "Epoch 7/40\n",
      "4800/4800 [==============================] - 0s 15us/step - loss: 0.7124 - acc: 0.7285 - val_loss: 0.7036 - val_acc: 0.8417\n",
      "Epoch 8/40\n",
      "4800/4800 [==============================] - 0s 15us/step - loss: 0.6799 - acc: 0.8460 - val_loss: 0.6729 - val_acc: 0.8558\n",
      "Epoch 9/40\n",
      "4800/4800 [==============================] - 0s 15us/step - loss: 0.6526 - acc: 0.8521 - val_loss: 0.6454 - val_acc: 0.8675\n",
      "Epoch 10/40\n",
      "4800/4800 [==============================] - 0s 14us/step - loss: 0.6278 - acc: 0.8637 - val_loss: 0.6224 - val_acc: 0.8658\n",
      "Epoch 11/40\n",
      "4800/4800 [==============================] - 0s 15us/step - loss: 0.6064 - acc: 0.8681 - val_loss: 0.6020 - val_acc: 0.8658\n",
      "Epoch 12/40\n",
      "4800/4800 [==============================] - 0s 15us/step - loss: 0.5878 - acc: 0.8683 - val_loss: 0.5827 - val_acc: 0.8708\n",
      "Epoch 13/40\n",
      "4800/4800 [==============================] - 0s 15us/step - loss: 0.5708 - acc: 0.8696 - val_loss: 0.5664 - val_acc: 0.8692\n",
      "Epoch 14/40\n",
      "4800/4800 [==============================] - 0s 15us/step - loss: 0.5551 - acc: 0.8735 - val_loss: 0.5509 - val_acc: 0.8692\n",
      "Epoch 15/40\n",
      "4800/4800 [==============================] - 0s 14us/step - loss: 0.5408 - acc: 0.8738 - val_loss: 0.5354 - val_acc: 0.8742\n",
      "Epoch 16/40\n",
      "4800/4800 [==============================] - 0s 15us/step - loss: 0.5262 - acc: 0.8744 - val_loss: 0.5162 - val_acc: 0.8733\n",
      "Epoch 17/40\n",
      "4800/4800 [==============================] - 0s 16us/step - loss: 0.4972 - acc: 0.8806 - val_loss: 0.4771 - val_acc: 0.8883\n",
      "Epoch 18/40\n",
      "4800/4800 [==============================] - 0s 15us/step - loss: 0.4664 - acc: 0.8881 - val_loss: 0.4481 - val_acc: 0.8950\n",
      "Epoch 19/40\n",
      "4800/4800 [==============================] - 0s 15us/step - loss: 0.4440 - acc: 0.8915 - val_loss: 0.4286 - val_acc: 0.9017\n",
      "Epoch 20/40\n",
      "4800/4800 [==============================] - 0s 16us/step - loss: 0.4277 - acc: 0.8962 - val_loss: 0.4108 - val_acc: 0.9042\n",
      "Epoch 21/40\n",
      "4800/4800 [==============================] - 0s 16us/step - loss: 0.4124 - acc: 0.8965 - val_loss: 0.3959 - val_acc: 0.9033\n",
      "Epoch 22/40\n",
      "4800/4800 [==============================] - 0s 15us/step - loss: 0.3994 - acc: 0.8971 - val_loss: 0.3847 - val_acc: 0.9042\n",
      "Epoch 23/40\n",
      "4800/4800 [==============================] - 0s 13us/step - loss: 0.3881 - acc: 0.8983 - val_loss: 0.3735 - val_acc: 0.9033\n",
      "Epoch 24/40\n",
      "4800/4800 [==============================] - 0s 16us/step - loss: 0.3780 - acc: 0.8990 - val_loss: 0.3628 - val_acc: 0.9067\n",
      "Epoch 25/40\n",
      "4800/4800 [==============================] - 0s 16us/step - loss: 0.3682 - acc: 0.9004 - val_loss: 0.3526 - val_acc: 0.9075\n",
      "Epoch 26/40\n",
      "4800/4800 [==============================] - 0s 15us/step - loss: 0.3578 - acc: 0.9038 - val_loss: 0.3445 - val_acc: 0.9083\n",
      "Epoch 27/40\n",
      "4800/4800 [==============================] - 0s 16us/step - loss: 0.3496 - acc: 0.9040 - val_loss: 0.3363 - val_acc: 0.9125\n",
      "Epoch 28/40\n",
      "4800/4800 [==============================] - 0s 15us/step - loss: 0.3420 - acc: 0.9065 - val_loss: 0.3293 - val_acc: 0.9158\n",
      "Epoch 29/40\n",
      "4800/4800 [==============================] - 0s 16us/step - loss: 0.3351 - acc: 0.9054 - val_loss: 0.3217 - val_acc: 0.9142\n",
      "Epoch 30/40\n",
      "4800/4800 [==============================] - 0s 15us/step - loss: 0.3285 - acc: 0.9060 - val_loss: 0.3167 - val_acc: 0.9133\n",
      "Epoch 31/40\n",
      "4800/4800 [==============================] - 0s 15us/step - loss: 0.3231 - acc: 0.9083 - val_loss: 0.3113 - val_acc: 0.9133\n",
      "Epoch 32/40\n",
      "4800/4800 [==============================] - 0s 15us/step - loss: 0.3183 - acc: 0.9073 - val_loss: 0.3065 - val_acc: 0.9142\n",
      "Epoch 33/40\n",
      "4800/4800 [==============================] - 0s 17us/step - loss: 0.3137 - acc: 0.9104 - val_loss: 0.3016 - val_acc: 0.9150\n",
      "Epoch 34/40\n",
      "4800/4800 [==============================] - 0s 18us/step - loss: 0.3099 - acc: 0.9085 - val_loss: 0.2982 - val_acc: 0.9100\n",
      "Epoch 35/40\n",
      "4800/4800 [==============================] - 0s 17us/step - loss: 0.3060 - acc: 0.9106 - val_loss: 0.2934 - val_acc: 0.9142\n",
      "Epoch 36/40\n",
      "4800/4800 [==============================] - 0s 16us/step - loss: 0.3027 - acc: 0.9094 - val_loss: 0.2897 - val_acc: 0.9142\n",
      "Epoch 37/40\n",
      "4800/4800 [==============================] - 0s 15us/step - loss: 0.2999 - acc: 0.9108 - val_loss: 0.2871 - val_acc: 0.9125\n",
      "Epoch 38/40\n",
      "4800/4800 [==============================] - 0s 16us/step - loss: 0.2974 - acc: 0.9087 - val_loss: 0.2849 - val_acc: 0.9133\n",
      "Epoch 39/40\n",
      "4800/4800 [==============================] - 0s 16us/step - loss: 0.2947 - acc: 0.9090 - val_loss: 0.2815 - val_acc: 0.9158\n",
      "Epoch 40/40\n",
      "4800/4800 [==============================] - 0s 15us/step - loss: 0.2920 - acc: 0.9096 - val_loss: 0.2801 - val_acc: 0.9108\n"
     ]
    }
   ],
   "source": [
    "model.compile(optimizer=keras.optimizers.Adam(), loss=\"categorical_crossentropy\", metrics=[\"accuracy\"])\n",
    "\n",
    "history = model.fit(x_train, y_train, epochs=40, batch_size=128, verbose=1, validation_split=0.2)"
   ]
  },
  {
   "cell_type": "code",
   "execution_count": 24,
   "metadata": {},
   "outputs": [
    {
     "data": {
      "image/png": "[encoded data removed]",
      "text/plain": [
       "<matplotlib.figure.Figure at 0x27926c7d8d0>"
      ]
     },
     "metadata": {},
     "output_type": "display_data"
    },
    {
     "data": {
      "image/png": "[encoded data removed]",
      "text/plain": [
       "<matplotlib.figure.Figure at 0x27928ce8470>"
      ]
     },
     "metadata": {},
     "output_type": "display_data"
    }
   ],
   "source": [
    "import matplotlib.pyplot as plt\n",
    "# summarize history for accuracy\n",
    "plt.plot(history.history['acc'])\n",
    "plt.plot(history.history['val_acc'])\n",
    "plt.title('Amazon Music Dataset Model Accuracy')\n",
    "plt.ylabel('accuracy')\n",
    "plt.xlabel('epoch')\n",
    "plt.legend(['train', 'test'], loc='upper left')\n",
    "plt.show()\n",
    "# summarize history for loss\n",
    "plt.plot(history.history['loss'])\n",
    "plt.plot(history.history['val_loss'])\n",
    "plt.title('Amazon Music Dataset Model Loss')\n",
    "plt.ylabel('loss')\n",
    "plt.xlabel('epoch')\n",
    "plt.legend(['train', 'test'], loc='upper left')\n",
    "plt.show()"
   ]
  },
  {
   "cell_type": "code",
   "execution_count": 25,
   "metadata": {},
   "outputs": [],
   "source": [
    "import itertools\n",
    "import numpy as np\n",
    "import matplotlib.pyplot as plt\n",
    "from sklearn import svm, datasets\n",
    "from sklearn.model_selection import train_test_split\n",
    "from sklearn.metrics import confusion_matrix\n",
    "\n",
    "def plot_confusion_matrix(cm, classes,\n",
    "                          normalize=False,\n",
    "                          title='Confusion matrix',\n",
    "                          cmap=plt.cm.Blues):\n",
    "    \"\"\"\n",
    "    This function prints and plots the confusion matrix.\n",
    "    Normalization can be applied by setting `normalize=True`.\n",
    "    \"\"\"\n",
    "    if normalize:\n",
    "        cm = cm.astype('float') / cm.sum(axis=1)[:, np.newaxis]\n",
    "        print(\"Normalized confusion matrix\")\n",
    "    else:\n",
    "        print('Confusion matrix, without normalization')\n",
    "\n",
    "    print(cm)\n",
    "    print(len(classes))\n",
    "    plt.imshow(cm, interpolation='nearest', cmap=cmap)\n",
    "    plt.title(title)\n",
    "    plt.colorbar()\n",
    "    tick_marks = np.arange(len(classes))\n",
    "    plt.xticks(tick_marks, classes, rotation=45)\n",
    "    plt.yticks(tick_marks, classes)\n",
    "\n",
    "    fmt = '.2f' if normalize else 'd'\n",
    "    thresh = cm.max() / 2.\n",
    "    for i, j in itertools.product(range(cm.shape[0]), range(cm.shape[1])):\n",
    "        plt.text(j, i, format(cm[i, j], fmt),\n",
    "                 horizontalalignment=\"center\",\n",
    "                 color=\"white\" if cm[i, j] > thresh else \"black\")\n",
    "\n",
    "    plt.ylabel('True label')\n",
    "    plt.xlabel('Predicted label')\n",
    "    plt.tight_layout()"
   ]
  },
  {
   "cell_type": "code",
   "execution_count": 26,
   "metadata": {},
   "outputs": [],
   "source": [
    "from sklearn.metrics import classification_report, confusion_matrix\n",
    "pred_list = []\n",
    "actual_list = []\n",
    "predictions = model.predict(x_train)\n",
    "for i in predictions:\n",
    "    pred_list.append(np.argmax(i))\n",
    "for i in y_train:\n",
    "    actual_list.append(np.argmax(i))\n",
    "cnf_matrix=confusion_matrix(actual_list, pred_list)"
   ]
  },
  {
   "cell_type": "code",
   "execution_count": 27,
   "metadata": {},
   "outputs": [
    {
     "name": "stdout",
     "output_type": "stream",
     "text": [
      "Confusion matrix, without normalization\n",
      "[[1134   36   56]\n",
      " [  48  932  196]\n",
      " [  76  128 3394]]\n",
      "3\n"
     ]
    },
    {
     "data": {
      "image/png": "[encoded data removed]",
      "text/plain": [
       "<matplotlib.figure.Figure at 0x279255e6cc0>"
      ]
     },
     "metadata": {},
     "output_type": "display_data"
    }
   ],
   "source": [
    "# Plot non-normalized confusion matrix\n",
    "class_names =['negative','neutral','positive']\n",
    "plt.figure()\n",
    "plot_confusion_matrix(cnf_matrix, classes=class_names, title='Confusion matrix; Sentiment Dataset')\n",
    "plt.show()"
   ]
  },
  {
   "cell_type": "code",
   "execution_count": 28,
   "metadata": {},
   "outputs": [
    {
     "name": "stdout",
     "output_type": "stream",
     "text": [
      "[0.85547674 0.03876741 0.1057559 ]\n"
     ]
    }
   ],
   "source": [
    "# Test model on actual input\n",
    "import pandas as pd\n",
    "createfeed=pd.read_csv('llexicon.csv',index_col=0)\n",
    "feature_values=[0,0,0]\n",
    "str = \"This is quite defective.\"\n",
    "str_result =  review_cleaner(str)\n",
    "words= str_result.split()\n",
    "for j in range(0,len(words)):\n",
    "    try:\n",
    "        feature_values = np.add(feature_values,[createfeed.loc[words[j]][0],createfeed.loc[words[j]][1],createfeed.loc[words[j]][2]])\n",
    "    except:\n",
    "        continue\n",
    "feature_values = feature_values.tolist()\n",
    "test_case = np.array(feature_values)\n",
    "\n",
    "#print(np.shape(test_case))\n",
    "checker = []\n",
    "checker.append(test_case)\n",
    "checker = np.array(checker)\n",
    "#print(np.shape(checker))\n",
    "\n",
    "custom = model.predict(checker)\n",
    "print(custom[0])\n",
    "\n",
    "# Order: negative, neutral, positive"
   ]
  },
  {
   "cell_type": "code",
   "execution_count": 29,
   "metadata": {},
   "outputs": [
    {
     "name": "stdout",
     "output_type": "stream",
     "text": [
      "(4800, 3)\n",
      "(1200, 3)\n"
     ]
    }
   ],
   "source": [
    "# Data split for other classifications\n",
    "import numpy as np\n",
    "from sklearn import svm, datasets, metrics\n",
    "from sklearn.linear_model import LogisticRegression\n",
    "\n",
    "X = x_train[:4800]\n",
    "print(np.shape(X))\n",
    "X_val = x_train[4800:]\n",
    "print(np.shape(X_val))\n",
    "\n",
    "y = y_train_svm2[:4800]\n",
    "y_val = y_train_svm2[4800:]\n",
    "y = list(map(int, y))\n",
    "y_val = list(map(int, y_val))"
   ]
  },
  {
   "cell_type": "code",
   "execution_count": 30,
   "metadata": {},
   "outputs": [
    {
     "name": "stdout",
     "output_type": "stream",
     "text": [
      "0.996875\n",
      "0.9883333333333333\n"
     ]
    }
   ],
   "source": [
    "# SVC rbf kernel\n",
    "C=1.0\n",
    "model = svm.SVC(kernel='rbf', gamma=0.7, C=C)\n",
    "model.fit(X, y)\n",
    "# training accuracy\n",
    "y_pred = model.predict(X)\n",
    "print(metrics.accuracy_score(y, y_pred, normalize=True, sample_weight=None))\n",
    "# validation accuracy\n",
    "y_pred = model.predict(X_val)\n",
    "print(metrics.accuracy_score(y_val, y_pred, normalize=True, sample_weight=None))"
   ]
  },
  {
   "cell_type": "code",
   "execution_count": 32,
   "metadata": {},
   "outputs": [
    {
     "name": "stdout",
     "output_type": "stream",
     "text": [
      "0.9060416666666666\n",
      "0.9133333333333333\n",
      "0.905625\n",
      "0.91\n"
     ]
    }
   ],
   "source": [
    "C=1.0\n",
    "\n",
    "# SVC linear kernel\n",
    "model = svm.SVC(kernel='linear', C=C)\n",
    "model.fit(X, y)\n",
    "# training accuracy\n",
    "y_pred = model.predict(X)\n",
    "print(metrics.accuracy_score(y, y_pred, normalize=True, sample_weight=None))\n",
    "# validation accuracy\n",
    "y_pred = model.predict(X_val)\n",
    "print(metrics.accuracy_score(y_val, y_pred, normalize=True, sample_weight=None))\n",
    "\n",
    "# Linear SVC\n",
    "model = svm.LinearSVC(C=C)\n",
    "model.fit(X, y)\n",
    "# training accuracy\n",
    "y_pred = model.predict(X)\n",
    "print(metrics.accuracy_score(y, y_pred, normalize=True, sample_weight=None))\n",
    "# validation accuracy\n",
    "y_pred = model.predict(X_val)\n",
    "print(metrics.accuracy_score(y_val, y_pred, normalize=True, sample_weight=None))"
   ]
  },
  {
   "cell_type": "code",
   "execution_count": 35,
   "metadata": {},
   "outputs": [
    {
     "name": "stdout",
     "output_type": "stream",
     "text": [
      "0.9083333333333333\n",
      "0.915\n"
     ]
    }
   ],
   "source": [
    "# Logistic Regression classification\n",
    "\n",
    "logreg = LogisticRegression(C=1e5, solver='lbfgs', multi_class='multinomial')\n",
    "logreg.fit(X, y)\n",
    "# training accuracy\n",
    "y_pred = logreg.predict(X)\n",
    "print(metrics.accuracy_score(y, y_pred, normalize=True, sample_weight=None))\n",
    "# validation accuracy\n",
    "y_pred = logreg.predict(X_val)\n",
    "print(metrics.accuracy_score(y_val, y_pred, normalize=True, sample_weight=None))"
   ]
  },
  {
   "cell_type": "code",
   "execution_count": 39,
   "metadata": {},
   "outputs": [
    {
     "name": "stdout",
     "output_type": "stream",
     "text": [
      "0.8510416666666667\n",
      "0.8483333333333334\n"
     ]
    }
   ],
   "source": [
    "# Multinomial Naive Bayes\n",
    "\n",
    "from sklearn.naive_bayes import MultinomialNB\n",
    "model = MultinomialNB()\n",
    "model.fit(X, y)\n",
    "# training accuracy\n",
    "y_pred = model.predict(X)\n",
    "print(metrics.accuracy_score(y, y_pred, normalize=True, sample_weight=None))\n",
    "# validation accuracy\n",
    "y_pred = model.predict(X_val)\n",
    "print(metrics.accuracy_score(y_val, y_pred, normalize=True, sample_weight=None))"
   ]
  },
  {
   "cell_type": "code",
   "execution_count": null,
   "metadata": {},
   "outputs": [],
   "source": []
  }
 ],
 "metadata": {
  "kernelspec": {
   "display_name": "Python 3",
   "language": "python",
   "name": "python3"
  },
  "language_info": {
   "codemirror_mode": {
    "name": "ipython",
    "version": 3
   },
   "file_extension": ".py",
   "mimetype": "text/x-python",
   "name": "python",
   "nbconvert_exporter": "python",
   "pygments_lexer": "ipython3",
   "version": "3.6.5"
  }
 },
 "nbformat": 4,
 "nbformat_minor": 2
}
